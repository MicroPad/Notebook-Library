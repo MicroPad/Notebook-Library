{
 "cells": [
  {
   "cell_type": "markdown",
   "metadata": {},
   "source": [
    "# Lists"
   ]
  },
  {
   "cell_type": "markdown",
   "metadata": {},
   "source": [
    "## Creating a list\n",
    "\n",
    "* A string is a sequence of characters\n",
    "* A list contains a sequence of any type\n",
    "* A list is denoted with brackets [ and ]\n",
    "* Can contain a nested list"
   ]
  },
  {
   "cell_type": "code",
   "execution_count": 1,
   "metadata": {},
   "outputs": [
    {
     "name": "stdout",
     "output_type": "stream",
     "text": [
      "['a', 'b', 'c']\n",
      "3\n",
      "a\n"
     ]
    }
   ],
   "source": [
    "mylist = [\"a\", \"b\", \"c\"]\n",
    "print (mylist)\n",
    "print (len(mylist))\n",
    "print (mylist[0])"
   ]
  },
  {
   "cell_type": "code",
   "execution_count": 2,
   "metadata": {},
   "outputs": [
    {
     "name": "stdout",
     "output_type": "stream",
     "text": [
      "[17, 123]\n",
      "['hello', 2.0, 10, [10, 20]]\n",
      "[]\n",
      "[[17, 123], ['iteration', 'selection', 'control'], ['test string', 'and', 'another']]\n"
     ]
    }
   ],
   "source": [
    "vocabulary = [\"iteration\", \"selection\", \"control\"]\n",
    "numbers = [17, 123]\n",
    "empty = []\n",
    "mixedlist = [\"hello\", 2.0, 5*2, [10, 20]]\n",
    "\n",
    "print (numbers)\n",
    "print (mixedlist)\n",
    "print (empty)\n",
    "newlist = [numbers, vocabulary,['test string', 'and' ,'another']]\n",
    "print (newlist)\n"
   ]
  },
  {
   "cell_type": "code",
   "execution_count": 3,
   "metadata": {},
   "outputs": [
    {
     "name": "stdout",
     "output_type": "stream",
     "text": [
      "3\n"
     ]
    }
   ],
   "source": [
    "print (len(newlist))"
   ]
  },
  {
   "cell_type": "markdown",
   "metadata": {},
   "source": [
    "## Common operations\n",
    "\n",
    "* `len` returns the length of the list \n",
    "* concatentation (`+`) and repetition (`*`)\n",
    "   * _creates new list objects_\n",
    "* access elements (`[i]` where `i=>0`)\n",
    "* slicing (`[i:j]` for elements between `i` and up to but not including `j`)\n",
    "* membership tests (`a in b`)\n"
   ]
  },
  {
   "cell_type": "code",
   "execution_count": 4,
   "metadata": {},
   "outputs": [
    {
     "name": "stdout",
     "output_type": "stream",
     "text": [
      "4\n",
      "1\n",
      "hello\n"
     ]
    }
   ],
   "source": [
    "browncoats = [\"Zoe\", \"Malcolm\"]\n",
    "crew = [\"Hoban\", \"Kaylee\"]\n",
    "passengers = [\"River\", \"Shepherd\", \"Simon\", \"Inara\"]\n",
    "cargo = [\"Contrabrand\"]\n",
    "print (len(passengers))\n",
    "print (len(cargo))\n",
    "print('hello')"
   ]
  },
  {
   "cell_type": "code",
   "execution_count": 5,
   "metadata": {},
   "outputs": [
    {
     "data": {
      "text/plain": [
       "['Zoe', 'Malcolm', 'Hoban', 'Kaylee', 'River', 'Shepherd', 'Simon', 'Inara']"
      ]
     },
     "execution_count": 5,
     "metadata": {},
     "output_type": "execute_result"
    }
   ],
   "source": [
    "firefly = browncoats + crew + passengers\n",
    "firefly"
   ]
  },
  {
   "cell_type": "code",
   "execution_count": 6,
   "metadata": {},
   "outputs": [
    {
     "name": "stdout",
     "output_type": "stream",
     "text": [
      "['Zoe', 'Malcolm', 'Hoban', 'Kaylee', 'River', 'Shepherd', 'Simon', 'Inara', 'Contrabrand', 'Contrabrand']\n"
     ]
    }
   ],
   "source": [
    "firefly = firefly + cargo*2\n",
    "print (firefly)"
   ]
  },
  {
   "cell_type": "code",
   "execution_count": 7,
   "metadata": {},
   "outputs": [
    {
     "data": {
      "text/plain": [
       "'Zoe'"
      ]
     },
     "execution_count": 7,
     "metadata": {},
     "output_type": "execute_result"
    }
   ],
   "source": [
    "firefly[0]"
   ]
  },
  {
   "cell_type": "code",
   "execution_count": 8,
   "metadata": {},
   "outputs": [
    {
     "data": {
      "text/plain": [
       "'Inara'"
      ]
     },
     "execution_count": 8,
     "metadata": {},
     "output_type": "execute_result"
    }
   ],
   "source": [
    "firefly[-3]"
   ]
  },
  {
   "cell_type": "code",
   "execution_count": 9,
   "metadata": {},
   "outputs": [
    {
     "name": "stdout",
     "output_type": "stream",
     "text": [
      "['Malcolm', 'Hoban']\n"
     ]
    },
    {
     "data": {
      "text/plain": [
       "'Malcolm'"
      ]
     },
     "execution_count": 9,
     "metadata": {},
     "output_type": "execute_result"
    }
   ],
   "source": [
    "print (firefly[1:3])\n",
    "firefly[1:3][0]"
   ]
  },
  {
   "cell_type": "code",
   "execution_count": 10,
   "metadata": {},
   "outputs": [
    {
     "name": "stdout",
     "output_type": "stream",
     "text": [
      "['Zoe', 'Malcolm', 'Hoban', 'Kaylee', 'River', 'Shepherd', 'Simon', 'Inara', 'Contrabrand', 'Contrabrand']\n"
     ]
    }
   ],
   "source": [
    "if 'River' in firefly:\n",
    "    print (firefly)"
   ]
  },
  {
   "cell_type": "code",
   "execution_count": 11,
   "metadata": {},
   "outputs": [
    {
     "name": "stdout",
     "output_type": "stream",
     "text": [
      "moo\n"
     ]
    }
   ],
   "source": [
    "if 'River' not in browncoats:\n",
    "    print ('moo')"
   ]
  },
  {
   "cell_type": "markdown",
   "metadata": {},
   "source": [
    "## Lists are mutable objects\n",
    "\n",
    ">Unlike strings, you can modify lists."
   ]
  },
  {
   "cell_type": "code",
   "execution_count": 12,
   "metadata": {},
   "outputs": [
    {
     "name": "stdout",
     "output_type": "stream",
     "text": [
      "['Zoe', 'Kirk', 'Hoban', 'Kaylee', 'River', 'Shepherd', 'Simon', 'Inara', 'Contrabrand', 'Contrabrand']\n"
     ]
    }
   ],
   "source": [
    "# Replace a value\n",
    "firefly[1] = \"Kirk\"\n",
    "print (firefly)"
   ]
  },
  {
   "cell_type": "markdown",
   "metadata": {},
   "source": [
    ">Del deletes elements"
   ]
  },
  {
   "cell_type": "code",
   "execution_count": 13,
   "metadata": {},
   "outputs": [
    {
     "name": "stdout",
     "output_type": "stream",
     "text": [
      "['Zoe', 'Kirk', 'Hoban', 'Kaylee', 'River', 'Shepherd', 'Simon', 'Inara', 'Contrabrand', 'Contrabrand']\n",
      "['Kirk', 'Hoban', 'Kaylee', 'River', 'Shepherd', 'Simon', 'Inara', 'Contrabrand', 'Contrabrand']\n"
     ]
    }
   ],
   "source": [
    "print(firefly)\n",
    "del firefly[0]\n",
    "print(firefly)"
   ]
  },
  {
   "cell_type": "code",
   "execution_count": 14,
   "metadata": {},
   "outputs": [
    {
     "name": "stdout",
     "output_type": "stream",
     "text": [
      "['Kirk', 'Hoban', 'Shepherd', 'Simon', 'Inara', 'Contrabrand', 'Contrabrand']\n"
     ]
    }
   ],
   "source": [
    "del firefly[2:4]\n",
    "print(firefly)"
   ]
  },
  {
   "cell_type": "code",
   "execution_count": 15,
   "metadata": {},
   "outputs": [
    {
     "name": "stdout",
     "output_type": "stream",
     "text": [
      "['Kirk', 'Hoban', 'Shepherd', 'Simon', 'Inara']\n"
     ]
    }
   ],
   "source": [
    "del firefly[-2:]\n",
    "print(firefly)"
   ]
  },
  {
   "cell_type": "markdown",
   "metadata": {},
   "source": [
    "> Lists can be considered objects.\n",
    "**Objects** are like animals: they know how to do stuff (like eat and sleep), they know how to interact with others (like make children), and they have characteristics (like height, weight).\n",
    "\n",
    "> \"Knowing how to do stuff\" with itself is called a method. In this case \"append\" is a method which, when invoked, is an action that changes the characteristics (the data vector of the list itself)."
   ]
  },
  {
   "cell_type": "markdown",
   "metadata": {},
   "source": [
    "> Append is used to add new elements to the list"
   ]
  },
  {
   "cell_type": "code",
   "execution_count": 16,
   "metadata": {},
   "outputs": [
    {
     "name": "stdout",
     "output_type": "stream",
     "text": [
      "['Kirk', 'Hoban', 'Shepherd', 'Simon', 'Inara', 'Reaver', ['Reaver', 'Spock']]\n"
     ]
    }
   ],
   "source": [
    "firefly.append(\"Reaver\")\n",
    "firefly.append([\"Reaver\", \"Spock\"]) # inserts a list\n",
    "print(firefly)\n"
   ]
  },
  {
   "cell_type": "markdown",
   "metadata": {},
   "source": [
    "> Extending the list allows new elements from another list to be added"
   ]
  },
  {
   "cell_type": "code",
   "execution_count": 17,
   "metadata": {},
   "outputs": [
    {
     "name": "stdout",
     "output_type": "stream",
     "text": [
      "['Kirk', 'Hoban', 'Shepherd', 'Simon', 'Inara', 'Reaver', ['Reaver', 'Spock'], 'Sulu', 'McCoy']\n"
     ]
    }
   ],
   "source": [
    "firefly.extend([\"Sulu\", \"McCoy\"]) \n",
    "print(firefly)"
   ]
  },
  {
   "cell_type": "markdown",
   "metadata": {},
   "source": [
    "> Another way to extend a list is using the addition operator"
   ]
  },
  {
   "cell_type": "code",
   "execution_count": 18,
   "metadata": {},
   "outputs": [
    {
     "name": "stdout",
     "output_type": "stream",
     "text": [
      "['Kirk', 'Hoban', 'Shepherd', 'Simon', 'Inara', 'Reaver', ['Reaver', 'Spock'], 'Sulu', 'McCoy', 'Uhura']\n"
     ]
    }
   ],
   "source": [
    "firefly += [\"Uhura\"] # this is almost the same as extend but doesn't use a function call so its slightly faster\n",
    "print(firefly)"
   ]
  },
  {
   "cell_type": "markdown",
   "metadata": {},
   "source": [
    "> We can also treat a list a bit like a queue, remove the last element "
   ]
  },
  {
   "cell_type": "code",
   "execution_count": 19,
   "metadata": {},
   "outputs": [
    {
     "name": "stdout",
     "output_type": "stream",
     "text": [
      "['Kirk', 'Hoban', 'Shepherd', 'Simon', 'Inara', 'Reaver', ['Reaver', 'Spock'], 'Sulu', 'McCoy', 'Uhura']\n",
      "Uhura\n"
     ]
    }
   ],
   "source": [
    "print(firefly)\n",
    "whatwaspopped = firefly.pop()\n",
    "print(whatwaspopped)"
   ]
  },
  {
   "cell_type": "markdown",
   "metadata": {},
   "source": [
    "> ... or remove the first element (or any we like as indicated by the index)"
   ]
  },
  {
   "cell_type": "code",
   "execution_count": 20,
   "metadata": {},
   "outputs": [
    {
     "data": {
      "text/plain": [
       "'Kirk'"
      ]
     },
     "execution_count": 20,
     "metadata": {},
     "output_type": "execute_result"
    }
   ],
   "source": [
    "firefly.pop(0)"
   ]
  },
  {
   "cell_type": "markdown",
   "metadata": {},
   "source": [
    "> We can also insert elements at arbitrary points"
   ]
  },
  {
   "cell_type": "code",
   "execution_count": 21,
   "metadata": {},
   "outputs": [
    {
     "name": "stdout",
     "output_type": "stream",
     "text": [
      "['Hoban', 'Zaphod', 'Shepherd', 'Simon', 'Inara', 'Reaver', ['Reaver', 'Spock'], 'Sulu', 'McCoy']\n"
     ]
    }
   ],
   "source": [
    "firefly.insert(1, \"Zaphod\")\n",
    "print(firefly)"
   ]
  },
  {
   "cell_type": "markdown",
   "metadata": {},
   "source": [
    "## Copying Lists"
   ]
  },
  {
   "cell_type": "code",
   "execution_count": 22,
   "metadata": {},
   "outputs": [
    {
     "name": "stdout",
     "output_type": "stream",
     "text": [
      "[1, 2, 3]\n"
     ]
    }
   ],
   "source": [
    "a = [1,2,3]\n",
    "print(a)"
   ]
  },
  {
   "cell_type": "code",
   "execution_count": 23,
   "metadata": {},
   "outputs": [
    {
     "name": "stdout",
     "output_type": "stream",
     "text": [
      "[1, 2, 3]\n"
     ]
    }
   ],
   "source": [
    "b = a\n",
    "print (b)"
   ]
  },
  {
   "cell_type": "code",
   "execution_count": 24,
   "metadata": {},
   "outputs": [
    {
     "name": "stdout",
     "output_type": "stream",
     "text": [
      "['change', 2, 3]\n",
      "['change', 2, 3]\n"
     ]
    }
   ],
   "source": [
    "a[0] = 'change'\n",
    "print (a)\n",
    "print (b)"
   ]
  },
  {
   "cell_type": "code",
   "execution_count": 25,
   "metadata": {},
   "outputs": [
    {
     "name": "stdout",
     "output_type": "stream",
     "text": [
      "[1, 2, 3]\n"
     ]
    }
   ],
   "source": [
    "a = [1,2,3]\n",
    "b = a[:] # clone a\n",
    "print (b)"
   ]
  },
  {
   "cell_type": "code",
   "execution_count": 26,
   "metadata": {},
   "outputs": [
    {
     "name": "stdout",
     "output_type": "stream",
     "text": [
      "['test', 2, 3]\n",
      "[1, 2, 3]\n"
     ]
    }
   ],
   "source": [
    "a[0] = 'test'\n",
    "print (a)\n",
    "print (b)"
   ]
  },
  {
   "cell_type": "markdown",
   "metadata": {},
   "source": [
    "## Searching, sorting, & counting"
   ]
  },
  {
   "cell_type": "markdown",
   "metadata": {},
   "source": [
    "* sort a list in ascending or descending order\n",
    "* find the index of a given element\n",
    "* count the number of matching elements\n",
    "* remove a given element"
   ]
  },
  {
   "cell_type": "code",
   "execution_count": 27,
   "metadata": {},
   "outputs": [
    {
     "name": "stdout",
     "output_type": "stream",
     "text": [
      "[1, 2, 2, 3, 3, 4]\n"
     ]
    }
   ],
   "source": [
    "v = [1, 3, 2, 3, 4, 2]\n",
    "v.sort()\n",
    "print(v)"
   ]
  },
  {
   "cell_type": "markdown",
   "metadata": {},
   "source": [
    "> `reverse` is a keyword of the `.sort()` method"
   ]
  },
  {
   "cell_type": "code",
   "execution_count": 28,
   "metadata": {},
   "outputs": [
    {
     "name": "stdout",
     "output_type": "stream",
     "text": [
      "[4, 3, 3, 2, 2, 1]\n"
     ]
    }
   ],
   "source": [
    "v.sort(reverse=True)\n",
    "print(v)"
   ]
  },
  {
   "cell_type": "markdown",
   "metadata": {},
   "source": [
    "> `.sort()` changes the the list in place but does NOT return it"
   ]
  },
  {
   "cell_type": "code",
   "execution_count": 29,
   "metadata": {},
   "outputs": [
    {
     "name": "stdout",
     "output_type": "stream",
     "text": [
      "[1, 1, 1, 1, 2, 2, 3, 4, 5, 5]\n",
      "None\n"
     ]
    }
   ],
   "source": [
    "v = [1,1,1,1,5,5,3,2,4,2]\n",
    "test = v.sort()\n",
    "print (v)\n",
    "print (test)"
   ]
  },
  {
   "cell_type": "markdown",
   "metadata": {},
   "source": [
    ">Count will return how many times something is featured in a list"
   ]
  },
  {
   "cell_type": "code",
   "execution_count": 30,
   "metadata": {},
   "outputs": [
    {
     "name": "stdout",
     "output_type": "stream",
     "text": [
      "4\n",
      "2\n",
      "1\n"
     ]
    }
   ],
   "source": [
    "print (v.count(1))\n",
    "print (v.count(2))\n",
    "print (v.count(3))"
   ]
  },
  {
   "cell_type": "markdown",
   "metadata": {},
   "source": [
    ">Remove removes a value from the list but doesn't return it"
   ]
  },
  {
   "cell_type": "code",
   "execution_count": 31,
   "metadata": {},
   "outputs": [
    {
     "name": "stdout",
     "output_type": "stream",
     "text": [
      "None\n",
      "[1, 1, 1, 1, 2, 2, 4, 5, 5]\n"
     ]
    }
   ],
   "source": [
    "num = v.remove(3)\n",
    "print (num)\n",
    "print (v)"
   ]
  },
  {
   "cell_type": "markdown",
   "metadata": {},
   "source": [
    "## Iterating Over Lists"
   ]
  },
  {
   "cell_type": "markdown",
   "metadata": {},
   "source": [
    "Iterate over the items in the list can be done in a number of ways. "
   ]
  },
  {
   "cell_type": "markdown",
   "metadata": {},
   "source": [
    ">If you want to know the index of each item you can use enumerate()"
   ]
  },
  {
   "cell_type": "code",
   "execution_count": 32,
   "metadata": {},
   "outputs": [
    {
     "name": "stdout",
     "output_type": "stream",
     "text": [
      "0 cat\n",
      "1 window\n",
      "2 defenestrate\n"
     ]
    }
   ],
   "source": [
    "a = ['cat', 'window', 'defenestrate']\n",
    "for x, val in enumerate(a):\n",
    "       print(x,val)"
   ]
  },
  {
   "cell_type": "markdown",
   "metadata": {},
   "source": [
    ">Or if you don't care about the index, just use a for loop"
   ]
  },
  {
   "cell_type": "code",
   "execution_count": 33,
   "metadata": {},
   "outputs": [
    {
     "name": "stdout",
     "output_type": "stream",
     "text": [
      "cat\n",
      "window\n",
      "defenestrate\n"
     ]
    }
   ],
   "source": [
    "for val in a:\n",
    "    print (val)"
   ]
  },
  {
   "cell_type": "markdown",
   "metadata": {},
   "source": [
    ">Or you can create a for loop using the length of the list"
   ]
  },
  {
   "cell_type": "code",
   "execution_count": 34,
   "metadata": {},
   "outputs": [
    {
     "name": "stdout",
     "output_type": "stream",
     "text": [
      "0 cat\n",
      "1 window\n",
      "2 defenestrate\n"
     ]
    }
   ],
   "source": [
    "for x in range(0, len(a)):\n",
    "    print(x,a[x]) "
   ]
  },
  {
   "cell_type": "code",
   "execution_count": 35,
   "metadata": {},
   "outputs": [
    {
     "name": "stdout",
     "output_type": "stream",
     "text": [
      "0 Mary\n",
      "1 had\n",
      "2 a\n",
      "3 little\n",
      "4 lamb\n"
     ]
    }
   ],
   "source": [
    "a = ['Mary', 'had', 'a', 'little', 'lamb']\n",
    "for i in range(len(a)):\n",
    "    print (i, a[i])"
   ]
  },
  {
   "cell_type": "markdown",
   "metadata": {},
   "source": [
    ">The range() function returns a sequence of numbers: from START to STOP by STEP"
   ]
  },
  {
   "cell_type": "code",
   "execution_count": 36,
   "metadata": {},
   "outputs": [
    {
     "name": "stdout",
     "output_type": "stream",
     "text": [
      "[1, 2, 3, 4, 5, 6, 7, 8, 9, 10]\n",
      "2\n",
      "4\n",
      "6\n",
      "8\n",
      "10\n"
     ]
    }
   ],
   "source": [
    "a = [1,2,3,4,5,6,7,8,9,10]\n",
    "print (a)\n",
    "for z in range(1, 10, 2): # from 1 to 10 each step is 2\n",
    "    print (a[z])"
   ]
  },
  {
   "cell_type": "markdown",
   "metadata": {},
   "source": [
    "Iterating backwards is done with 'reversed()'"
   ]
  },
  {
   "cell_type": "code",
   "execution_count": 37,
   "metadata": {},
   "outputs": [
    {
     "name": "stdout",
     "output_type": "stream",
     "text": [
      "1\n",
      "3\n",
      "5\n",
      "7\n",
      "9\n",
      "backwards:\n",
      "9\n",
      "7\n",
      "5\n",
      "3\n",
      "1\n"
     ]
    }
   ],
   "source": [
    "for z in range(1, 10, 2): # from 1 to 10 each step is 2\n",
    "    print (z)\n",
    "\n",
    "print ('backwards:')\n",
    "for z in reversed(range(1, 10, 2)): # from 1 to 10 each step is 2\n",
    "    print (z)"
   ]
  },
  {
   "cell_type": "markdown",
   "metadata": {},
   "source": [
    "## Casting Back and Forth"
   ]
  },
  {
   "cell_type": "markdown",
   "metadata": {},
   "source": [
    "> Take a simple list"
   ]
  },
  {
   "cell_type": "code",
   "execution_count": 38,
   "metadata": {
    "slideshow": {
     "slide_type": "fragment"
    }
   },
   "outputs": [
    {
     "name": "stdout",
     "output_type": "stream",
     "text": [
      "[1, 2, 3, ('b', 1)]\n",
      "<class 'list'>\n"
     ]
    }
   ],
   "source": [
    "a = [1,2,3,(\"b\",1)]\n",
    "print (a)\n",
    "print (type(a))"
   ]
  },
  {
   "cell_type": "markdown",
   "metadata": {},
   "source": [
    "> Convert it to a tuple (immutable list -- a list with values you can't change)"
   ]
  },
  {
   "cell_type": "code",
   "execution_count": 39,
   "metadata": {
    "slideshow": {
     "slide_type": "fragment"
    }
   },
   "outputs": [
    {
     "name": "stdout",
     "output_type": "stream",
     "text": [
      "(1, 2, 3, ('b', 1))\n",
      "<class 'tuple'>\n"
     ]
    }
   ],
   "source": [
    "b = tuple(a)\n",
    "print (b)\n",
    "print (type(b))"
   ]
  },
  {
   "cell_type": "markdown",
   "metadata": {},
   "source": [
    "> Convert it back to a list"
   ]
  },
  {
   "cell_type": "code",
   "execution_count": 40,
   "metadata": {
    "slideshow": {
     "slide_type": "fragment"
    }
   },
   "outputs": [
    {
     "name": "stdout",
     "output_type": "stream",
     "text": [
      "[1, 2, 3, ('b', 1)]\n",
      "<class 'list'>\n"
     ]
    }
   ],
   "source": [
    "c = list(b)\n",
    "print (c)\n",
    "print (type(c))"
   ]
  },
  {
   "cell_type": "markdown",
   "metadata": {},
   "source": [
    "> Convert it to a set (an unordered collection of unique elements)"
   ]
  },
  {
   "cell_type": "code",
   "execution_count": 41,
   "metadata": {
    "slideshow": {
     "slide_type": "fragment"
    }
   },
   "outputs": [
    {
     "name": "stdout",
     "output_type": "stream",
     "text": [
      "{('b', 1), 1, 2, 3}\n",
      "<class 'set'>\n"
     ]
    }
   ],
   "source": [
    "d = set(a)\n",
    "print (d)\n",
    "print (type(d))"
   ]
  },
  {
   "cell_type": "markdown",
   "metadata": {},
   "source": [
    "> Make a list out of a set"
   ]
  },
  {
   "cell_type": "code",
   "execution_count": 42,
   "metadata": {
    "slideshow": {
     "slide_type": "fragment"
    }
   },
   "outputs": [
    {
     "name": "stdout",
     "output_type": "stream",
     "text": [
      "{'m', 's', 'a', 'p'}\n",
      "['m', 's', 'a', 'p']\n"
     ]
    }
   ],
   "source": [
    "print (set('spam'))\n",
    "print (list(set(\"spam\")))"
   ]
  },
  {
   "cell_type": "markdown",
   "metadata": {},
   "source": [
    "> Make a list out of a string"
   ]
  },
  {
   "cell_type": "code",
   "execution_count": 43,
   "metadata": {},
   "outputs": [
    {
     "data": {
      "text/plain": [
       "['a', 'b', 'r', 'a', 'c', 'a', 'd', 'a', 'b', 'r', 'a']"
      ]
     },
     "execution_count": 43,
     "metadata": {},
     "output_type": "execute_result"
    }
   ],
   "source": [
    "list(\"abracadabra\")"
   ]
  },
  {
   "cell_type": "markdown",
   "metadata": {
    "slideshow": {
     "slide_type": "fragment"
    }
   },
   "source": [
    "> casting only affects top-level structure, not the elements "
   ]
  },
  {
   "cell_type": "markdown",
   "metadata": {},
   "source": [
    "## The split function\n",
    ">VERY useful. Split strings based on a delimeter (e.g. split on \" \", or \",\", or \"\\n\")"
   ]
  },
  {
   "cell_type": "code",
   "execution_count": 44,
   "metadata": {},
   "outputs": [
    {
     "data": {
      "text/plain": [
       "['Kirk', 'Spock', 'McCoy']"
      ]
     },
     "execution_count": 44,
     "metadata": {},
     "output_type": "execute_result"
    }
   ],
   "source": [
    "\"Kirk Spock  McCoy\".split()"
   ]
  },
  {
   "cell_type": "markdown",
   "metadata": {},
   "source": [
    "> Then you can join it back together with a delimter"
   ]
  },
  {
   "cell_type": "code",
   "execution_count": 45,
   "metadata": {},
   "outputs": [
    {
     "data": {
      "text/plain": [
       "'123'"
      ]
     },
     "execution_count": 45,
     "metadata": {},
     "output_type": "execute_result"
    }
   ],
   "source": [
    "''.join([\"1\",\"2\",\"3\"])"
   ]
  },
  {
   "cell_type": "code",
   "execution_count": 46,
   "metadata": {},
   "outputs": [
    {
     "name": "stdout",
     "output_type": "stream",
     "text": [
      "These,are,comma,seperated\n",
      "['These', 'are', 'comma', 'seperated']\n",
      "These are comma seperated\n",
      "These\tare\tcomma\tseperated\n"
     ]
    }
   ],
   "source": [
    "text = \"These,are,comma,seperated\"\n",
    "print (text)\n",
    "textlist = text.split(\",\")\n",
    "print (textlist)\n",
    "print (\" \".join(textlist))\n",
    "print (\"\\t\".join(textlist))"
   ]
  },
  {
   "cell_type": "markdown",
   "metadata": {
    "slideshow": {
     "slide_type": "slide"
    }
   },
   "source": [
    "## List Comprehension ##\n",
    "\n",
    "You can create lists \"on the fly\" by asking simple questions of other iterateable data structures. Although the following examples are somewhat trivial, this can be extremely powerful and is a very useful tool."
   ]
  },
  {
   "cell_type": "markdown",
   "metadata": {
    "slideshow": {
     "slide_type": "fragment"
    }
   },
   "source": [
    ">example: I want a list of squared numbers"
   ]
  },
  {
   "cell_type": "code",
   "execution_count": 47,
   "metadata": {
    "slideshow": {
     "slide_type": "fragment"
    }
   },
   "outputs": [
    {
     "name": "stdout",
     "output_type": "stream",
     "text": [
      "[0, 1, 4, 9, 16, 25, 36, 49, 64, 81]\n"
     ]
    }
   ],
   "source": [
    "# You can make the list of squared numbers using a loop:\n",
    "mylist = []\n",
    "for num in range(10):\n",
    "    mylist.append(num**2)\n",
    "print (mylist)"
   ]
  },
  {
   "cell_type": "code",
   "execution_count": 48,
   "metadata": {
    "slideshow": {
     "slide_type": "fragment"
    }
   },
   "outputs": [
    {
     "name": "stdout",
     "output_type": "stream",
     "text": [
      "[0, 1, 4, 9, 16, 25, 36, 49, 64, 81]\n"
     ]
    }
   ],
   "source": [
    "# or you can do it inline like so:\n",
    "mylist= [x**2 for x in range(10)]\n",
    "print (mylist)"
   ]
  },
  {
   "cell_type": "markdown",
   "metadata": {
    "slideshow": {
     "slide_type": "fragment"
    }
   },
   "source": [
    ">example: I want a list of all mesons whose masses are between 100 and 1000 MeV"
   ]
  },
  {
   "cell_type": "code",
   "execution_count": 49,
   "metadata": {
    "slideshow": {
     "slide_type": "fragment"
    }
   },
   "outputs": [
    {
     "name": "stdout",
     "output_type": "stream",
     "text": [
      "[('π+', 139.57018), ('π0', 134.9766), ('η′(958)', 957.78), ('K+', 493.677), ('K0', 497.614), ('K0S', 497.614), ('K0L', 497.614)]\n"
     ]
    }
   ],
   "source": [
    "particles = \\\n",
    "[{\"name\":\"π+\"  ,\"mass\": 139.57018}, {\"name\":\"π0\"  ,\"mass\": 134.9766}, \n",
    " {\"name\":\"η5\"  ,\"mass\": 47.853}, {\"name\":\"η′(958)\",\"mass\": 957.78}, \n",
    " {\"name\":\"ηc(1S)\", \"mass\": 2980.5}, {\"name\": \"ηb(1S)\",\"mass\": 9388.9}, \n",
    " {\"name\":\"K+\",  \"mass\": 493.677}, {\"name\":\"K0\"  ,\"mass\": 497.614}, \n",
    " {\"name\":\"K0S\" ,\"mass\":  497.614}, {\"name\":\"K0L\" ,\"mass\":  497.614},\n",
    " {\"name\":\"D+\"  ,\"mass\": 1869.62}, {\"name\":\"D0\"  ,\"mass\": 1864.84},\n",
    " {\"name\":\"D+s\" ,\"mass\":  1968.49}, {\"name\":\"B+\"  ,\"mass\": 5279.15},\n",
    " {\"name\":\"B0\"  ,\"mass\": 5279.5}, {\"name\":\"B0s\" ,\"mass\":  5366.3},\n",
    " {\"name\":\"B+c\" ,\"mass\":    6277}]\n",
    "\n",
    "# data source: http://en.wikipedia.org/wiki/List_of_mesons\n",
    "\n",
    "my_mesons = [ (x['name'],x['mass']) for x in particles if x['mass'] <= 1000.0 and x['mass'] >= 100.0]\n",
    "print (my_mesons)"
   ]
  },
  {
   "cell_type": "code",
   "execution_count": 50,
   "metadata": {
    "slideshow": {
     "slide_type": "fragment"
    }
   },
   "outputs": [
    {
     "name": "stdout",
     "output_type": "stream",
     "text": [
      "The average meson mass in this range is 459.83511142857145 MeV/c^2.\n"
     ]
    }
   ],
   "source": [
    "# get the average\n",
    "tot = 0.0\n",
    "for x in my_mesons: \n",
    "    tot += x[1]\n",
    "print (\"The average meson mass in this range is \" + str(tot/len(my_mesons)) + \" MeV/c^2.\")"
   ]
  },
  {
   "cell_type": "code",
   "execution_count": 51,
   "metadata": {
    "slideshow": {
     "slide_type": "fragment"
    }
   },
   "outputs": [
    {
     "data": {
      "text/plain": [
       "'π+'"
      ]
     },
     "execution_count": 51,
     "metadata": {},
     "output_type": "execute_result"
    }
   ],
   "source": [
    "my_mesons[0][0]"
   ]
  },
  {
   "cell_type": "markdown",
   "metadata": {
    "slideshow": {
     "slide_type": "fragment"
    }
   },
   "source": [
    " &nbsp;"
   ]
  }
 ],
 "metadata": {
  "kernelspec": {
   "display_name": "Python 3",
   "language": "python",
   "name": "python3"
  },
  "language_info": {
   "codemirror_mode": {
    "name": "ipython",
    "version": 3
   },
   "file_extension": ".py",
   "mimetype": "text/x-python",
   "name": "python",
   "nbconvert_exporter": "python",
   "pygments_lexer": "ipython3",
   "version": "3.6.4"
  }
 },
 "nbformat": 4,
 "nbformat_minor": 1
}